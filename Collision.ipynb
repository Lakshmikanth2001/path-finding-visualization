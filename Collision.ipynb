{
 "cells": [
  {
   "cell_type": "code",
   "execution_count": 15,
   "metadata": {},
   "outputs": [],
   "source": [
    "import numpy as np# for matrix "
   ]
  },
  {
   "cell_type": "code",
   "execution_count": 16,
   "metadata": {},
   "outputs": [],
   "source": [
    "#problem statement two block lie on a friction less surface and witha wall on\n",
    "#one side intilally a block from infiinity come and hit onother block\n",
    "#considering all the collision elastic conunt number of collisions\n",
    "\n",
    "#m1*u1+m2*u2==m1*v1+m2*v2\n",
    "\n",
    "#(v2-v1)/(u2-u2)==-e e for elastic collison is -1\n",
    "\n",
    "#simplifing above expressions we get\n",
    "\n",
    "#[v1;v2]=[k1 k2;k1+e k2-e]*[u1;u2]\n",
    "\n",
    "#k1=(m1-em2)/(m1+m2)\n",
    "#k2=(m2+em2)/(m1+m2)\n",
    "\n",
    "#m1 is given intial velocity and m2 is at rest and m1 is collided with m2"
   ]
  },
  {
   "cell_type": "code",
   "execution_count": 17,
   "metadata": {},
   "outputs": [],
   "source": [
    "def collision_count(m1,m2,u1,u2,e):\n",
    "    u=np.array([u1,u2])\n",
    "    u=u.reshape(-1,1)\n",
    "    k1=(m1-e*m2)/(m1+m2)\n",
    "    k2=(m2+e*m2)/(m1+m2)\n",
    "    count=0\n",
    "    block_collision=np.zeros((2,2))\n",
    "    wall_collision=np.zeros((2,2))\n",
    "    block_collision[0][0]=k1\n",
    "    block_collision[0][1]=k2\n",
    "    block_collision[1][0]=k1+e\n",
    "    block_collision[1][1]=k2-e\n",
    "    wall_collision[0][0]=1\n",
    "    wall_collision[0][1]=0\n",
    "    wall_collision[1][0]=0\n",
    "    wall_collision[1][1]=-1\n",
    "    while True:\n",
    "        v=np.matmul(block_collision,u)\n",
    "        count+=1\n",
    "        if abs(v[0][0])>abs(v[1][0]) and v[0][0]<=0 and v[1][0]<0:\n",
    "            return count\n",
    "        u=np.matmul(wall_collision,v)\n",
    "        count+=1\n",
    "        if abs(u[0][0])>abs(v[1][0]) and u[0][0]<=0 and u[1][0]<=0:\n",
    "            return count"
   ]
  },
  {
   "cell_type": "code",
   "execution_count": 18,
   "metadata": {},
   "outputs": [
    {
     "name": "stdout",
     "output_type": "stream",
     "text": [
      "314\n"
     ]
    }
   ],
   "source": [
    "print(collision_count(10000,1,10,0,1))"
   ]
  }
 ],
 "metadata": {
  "kernelspec": {
   "display_name": "Python 3",
   "language": "python",
   "name": "python3"
  },
  "language_info": {
   "codemirror_mode": {
    "name": "ipython",
    "version": 3
   },
   "file_extension": ".py",
   "mimetype": "text/x-python",
   "name": "python",
   "nbconvert_exporter": "python",
   "pygments_lexer": "ipython3",
   "version": "3.7.1"
  }
 },
 "nbformat": 4,
 "nbformat_minor": 2
}
